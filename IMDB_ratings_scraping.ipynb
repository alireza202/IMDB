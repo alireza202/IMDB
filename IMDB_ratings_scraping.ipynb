{
 "metadata": {
  "name": "",
  "signature": "sha256:7afb87b140edc33c83a21709b67dd06d2e443f0983850ac20ea3f9eb92ae4ad0"
 },
 "nbformat": 3,
 "nbformat_minor": 0,
 "worksheets": [
  {
   "cells": [
    {
     "cell_type": "code",
     "collapsed": false,
     "input": [
      "from __future__ import division\n",
      "import re, sys\n",
      "import urllib\n",
      "import imdb\n",
      "from pandas import *\n",
      "import timeit"
     ],
     "language": "python",
     "metadata": {},
     "outputs": [],
     "prompt_number": 115
    },
    {
     "cell_type": "code",
     "collapsed": false,
     "input": [
      "# a test page to find out how to use the regex\n",
      "url = 'http://www.imdb.com/title/tt0371746/ratings'\n",
      "raw = urllib.urlopen(url).read()\n",
      "type(raw)"
     ],
     "language": "python",
     "metadata": {},
     "outputs": [
      {
       "metadata": {},
       "output_type": "pyout",
       "prompt_number": 77,
       "text": [
        "str"
       ]
      }
     ],
     "prompt_number": 77
    },
    {
     "cell_type": "code",
     "collapsed": false,
     "input": [
      "regex1 = r'<a href=\\\"ratings-(?!imdb_staff)(\\w+)\\\">.+nbsp;([0-9]+)</td><td background.+nbsp;([0-9]+\\.[0-9])'\n",
      "regex2 = r'nowrap=\\\"1\\\" > (\\w+).+nbsp;([0-9]+)</td><td background.+nbsp;([0-9]+\\.[0-9])'\n",
      "\n",
      "ratings = re.findall(regex1, raw)\n",
      "# to add the IMDB rating in the end\n",
      "ratings = ratings + re.findall(regex2, raw)\n",
      "# ratings\n",
      "# len([x for t in ratings for x in t])"
     ],
     "language": "python",
     "metadata": {},
     "outputs": [],
     "prompt_number": 163
    },
    {
     "cell_type": "code",
     "collapsed": false,
     "input": [
      "# getting the column names for each category\n",
      "column_names = list()\n",
      "for i in range(len(ratings)):\n",
      "    column_names.append(ratings[i][0] + '_votes')\n",
      "    column_names.append(ratings[i][0] + '_rating')"
     ],
     "language": "python",
     "metadata": {},
     "outputs": [],
     "prompt_number": 162
    },
    {
     "cell_type": "code",
     "collapsed": false,
     "input": [
      "# going for all movies!\n",
      "# adding new columns for votes and ratings in each category\n",
      "df = read_table('top_voted_url.txt')\n",
      "df = concat([df, DataFrame(index = range(df.shape[0]), columns = column_names)], axis = 1)"
     ],
     "language": "python",
     "metadata": {},
     "outputs": [
      {
       "metadata": {},
       "output_type": "pyout",
       "prompt_number": 118,
       "text": [
        "(5547, 41)"
       ]
      }
     ],
     "prompt_number": 118
    },
    {
     "cell_type": "code",
     "collapsed": false,
     "input": [
      "# the name of categories will not be retrieved. only the votes and ratings are fished out.\n",
      "regex1 = r'<a href=\\\"ratings-(?!imdb_staff)\\w+\\\">.+nbsp;([0-9]+)</td><td background.+nbsp;([0-9]+\\.[0-9])'\n",
      "regex2 = r'nowrap=\\\"1\\\" > \\w+.+nbsp;([0-9]+)</td><td background.+nbsp;([0-9]+\\.[0-9])'"
     ],
     "language": "python",
     "metadata": {},
     "outputs": [],
     "prompt_number": 120
    },
    {
     "cell_type": "code",
     "collapsed": false,
     "input": [
      "# goes through all URLs, scrapes the ratings, and puts them in the data frame\n",
      "tic = timeit.default_timer()\n",
      "for i in range(206, df.shape[0]):\n",
      "    raw = urllib.urlopen(df.iloc[i]['url'] + 'ratings').read()\n",
      "    ratings = re.findall(regex1, raw) + re.findall(regex2, raw)\n",
      "    if ratings and len([x for t in ratings for x in t]) == 36:\n",
      "        df.ix[i, 5:] = [x for t in ratings for x in t]\n",
      "    else:\n",
      "        pass\n",
      "timeit.default_timer() - tic"
     ],
     "language": "python",
     "metadata": {},
     "outputs": [
      {
       "metadata": {},
       "output_type": "pyout",
       "prompt_number": 149,
       "text": [
        "2057.876310110092"
       ]
      }
     ],
     "prompt_number": 149
    },
    {
     "cell_type": "code",
     "collapsed": false,
     "input": [
      "# removing the nan rows. they appear because of regex not entirely matching.\n",
      "df = df[~isnull(df.male_votes)]\n",
      "df.to_csv('top_movies_with_ratings.txt', sep = '\\t', index = False)"
     ],
     "language": "python",
     "metadata": {},
     "outputs": [
      {
       "metadata": {},
       "output_type": "pyout",
       "prompt_number": 160,
       "text": [
        "(5374, 41)"
       ]
      }
     ],
     "prompt_number": 160
    },
    {
     "cell_type": "code",
     "collapsed": false,
     "input": [],
     "language": "python",
     "metadata": {},
     "outputs": []
    }
   ],
   "metadata": {}
  }
 ]
}