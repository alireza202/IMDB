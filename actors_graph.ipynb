{
 "metadata": {
  "name": "",
  "signature": "sha256:17b5a4c5c7e758664764346e837b231d32416f0a9107e9b10773d39f2501ded9"
 },
 "nbformat": 3,
 "nbformat_minor": 0,
 "worksheets": [
  {
   "cells": [
    {
     "cell_type": "code",
     "collapsed": false,
     "input": [
      "from pandas import *\n",
      "import networkx as nx\n",
      "G = nx.Graph()"
     ],
     "language": "python",
     "metadata": {},
     "outputs": [],
     "prompt_number": 1
    },
    {
     "cell_type": "code",
     "collapsed": false,
     "input": [
      "df = read_csv('cast_movie.txt', sep = '\\t', names = ['person_id', 'name', 'movie_id', 'role_id'])"
     ],
     "language": "python",
     "metadata": {},
     "outputs": [],
     "prompt_number": 2
    },
    {
     "cell_type": "code",
     "collapsed": false,
     "input": [
      "persons = df[['person_id', 'name']].drop_duplicates()\n",
      "persons = persons.reset_index()"
     ],
     "language": "python",
     "metadata": {},
     "outputs": [],
     "prompt_number": 28
    },
    {
     "cell_type": "code",
     "collapsed": false,
     "input": [
      "def all_edge(l, g):\n",
      "    for i in range(len(l)):\n",
      "        for j in range(i + 1, len(l)):\n",
      "            if G.has_edge(l[i], l[j]):\n",
      "                # we added this one before, just increase the weight by one\n",
      "                G[l[i]][l[j]]['weight'] += 1\n",
      "            else:\n",
      "                # new edge. add with weight=1\n",
      "                G.add_edge(l[i], l[j], weight = 1)\n",
      "    return g"
     ],
     "language": "python",
     "metadata": {},
     "outputs": [],
     "prompt_number": 7
    },
    {
     "cell_type": "code",
     "collapsed": false,
     "input": [
      "movies = set(df['movie_id'])\n",
      "for movie in movies:\n",
      "    cast = list(df['person_id'][df.movie_id == movie])\n",
      "    G = all_edge(cast, G)"
     ],
     "language": "python",
     "metadata": {},
     "outputs": [],
     "prompt_number": 8
    },
    {
     "cell_type": "code",
     "collapsed": false,
     "input": [
      "# Al Pacino's ID\n",
      "ID = unique(df['person_id'][df.name == 'Pacino, Al']).tolist()[0]\n",
      "ID"
     ],
     "language": "python",
     "metadata": {},
     "outputs": [
      {
       "metadata": {},
       "output_type": "pyout",
       "prompt_number": 35,
       "text": [
        "1389004"
       ]
      }
     ],
     "prompt_number": 35
    },
    {
     "cell_type": "code",
     "collapsed": false,
     "input": [
      "# Let's find out the top 5 people that have worked with Al Pacino more!\n",
      "closest = []\n",
      "for neighbor in G.neighbors(ID):\n",
      "    closest.append((neighbor, G[ID][neighbor]['weight']))\n",
      "top_5 = sorted(closest, key=lambda tup: tup[1], reverse=True)[:5]"
     ],
     "language": "python",
     "metadata": {},
     "outputs": [],
     "prompt_number": 32
    },
    {
     "cell_type": "code",
     "collapsed": false,
     "input": [
      "[persons['name'][persons.person_id == n].tolist() for n in [int(i[0]) for i in top_5]]"
     ],
     "language": "python",
     "metadata": {},
     "outputs": [
      {
       "metadata": {},
       "output_type": "pyout",
       "prompt_number": 60,
       "text": [
        "[['Cazale, John'],\n",
        " ['Bulleit, James'],\n",
        " ['Russo, Gianni'],\n",
        " ['Bright, Richard'],\n",
        " ['Jurgensen, Randy']]"
       ]
      }
     ],
     "prompt_number": 60
    },
    {
     "cell_type": "code",
     "collapsed": false,
     "input": [
      "import matplotlib.pylab as plt\n",
      "%matplotlib inline\n",
      "\n",
      "nx.draw_spring(G)"
     ],
     "language": "python",
     "metadata": {},
     "outputs": []
    },
    {
     "cell_type": "code",
     "collapsed": false,
     "input": [
      "degrees = DataFrame.from_items([('person_id', G.nodes()), ('deg', nx.degree(G).values())])"
     ],
     "language": "python",
     "metadata": {},
     "outputs": [],
     "prompt_number": 61
    },
    {
     "cell_type": "code",
     "collapsed": false,
     "input": [
      "top_degrees = degrees.sort('deg', ascending=False).reset_index()\n",
      "top_degrees = top_degrees.loc[range(50), ['person_id', 'deg']]\n",
      "# top_degrees['name'] = ''\n",
      "# for i in range(50):\n",
      "#     top_degrees.loc[i, 'name'] = persons['name'][persons.person_id == top_degrees.loc[i, 'person_id']]\n",
      "# top_degrees"
     ],
     "language": "python",
     "metadata": {},
     "outputs": [],
     "prompt_number": 62
    },
    {
     "cell_type": "code",
     "collapsed": false,
     "input": [
      "top_degrees.loc[1, 'person_id']"
     ],
     "language": "python",
     "metadata": {},
     "outputs": [
      {
       "metadata": {},
       "output_type": "pyout",
       "prompt_number": 80,
       "text": [
        "1491413"
       ]
      }
     ],
     "prompt_number": 80
    },
    {
     "cell_type": "code",
     "collapsed": false,
     "input": [],
     "language": "python",
     "metadata": {},
     "outputs": []
    }
   ],
   "metadata": {}
  }
 ]
}